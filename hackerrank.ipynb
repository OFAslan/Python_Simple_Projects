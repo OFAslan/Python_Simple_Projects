{
 "cells": [
  {
   "cell_type": "code",
   "execution_count": 54,
   "metadata": {},
   "outputs": [
    {
     "name": "stdout",
     "output_type": "stream",
     "text": [
      "True\n",
      "True\n",
      "True\n",
      "True\n",
      "True\n"
     ]
    }
   ],
   "source": [
    "s = input()\n",
    "for method in (str.isalnum, str.isalpha, str.isdigit, str.islower, str.islower):\n",
    "    print(any(method(x) for x in s))"
   ]
  },
  {
   "cell_type": "code",
   "execution_count": null,
   "metadata": {},
   "outputs": [],
   "source": [
    "any()"
   ]
  },
  {
   "cell_type": "code",
   "execution_count": 11,
   "metadata": {},
   "outputs": [],
   "source": [
    "def all_the_same(x):\n",
    "    control_list = set(x)\n",
    "    if len(control_list) > 1:\n",
    "        return False\n",
    "    else:\n",
    "        return True"
   ]
  },
  {
   "cell_type": "code",
   "execution_count": 12,
   "metadata": {},
   "outputs": [
    {
     "data": {
      "text/plain": [
       "True"
      ]
     },
     "execution_count": 12,
     "metadata": {},
     "output_type": "execute_result"
    }
   ],
   "source": [
    "all_the_same([1, 1, 1]) "
   ]
  },
  {
   "cell_type": "code",
   "execution_count": 13,
   "metadata": {},
   "outputs": [
    {
     "data": {
      "text/plain": [
       "False"
      ]
     },
     "execution_count": 13,
     "metadata": {},
     "output_type": "execute_result"
    }
   ],
   "source": [
    "all_the_same([1, 2, 1]) "
   ]
  },
  {
   "cell_type": "code",
   "execution_count": 18,
   "metadata": {},
   "outputs": [],
   "source": [
    "def all_the_same2(x):\n",
    "    return all([1 if x[0] == i else 0 for i in x])"
   ]
  },
  {
   "cell_type": "code",
   "execution_count": 19,
   "metadata": {},
   "outputs": [
    {
     "data": {
      "text/plain": [
       "False"
      ]
     },
     "execution_count": 19,
     "metadata": {},
     "output_type": "execute_result"
    }
   ],
   "source": [
    "all_the_same2([1, 2, 1]) "
   ]
  },
  {
   "cell_type": "code",
   "execution_count": 54,
   "metadata": {},
   "outputs": [],
   "source": [
    "def split_list(x):\n",
    "    control = len(x)\n",
    "    if control % 2 != 0:\n",
    "        print(x[:int(control/2)+1],x[int(control/2)+1:])\n",
    "    else:\n",
    "        print(x[:int(control/2)],x[int(control/2):])"
   ]
  },
  {
   "cell_type": "code",
   "execution_count": 55,
   "metadata": {},
   "outputs": [
    {
     "name": "stdout",
     "output_type": "stream",
     "text": [
      "[1, 2, 3] [4, 5, 6]\n"
     ]
    }
   ],
   "source": [
    "split_list([1, 2, 3, 4, 5, 6])"
   ]
  },
  {
   "cell_type": "code",
   "execution_count": 56,
   "metadata": {},
   "outputs": [
    {
     "name": "stdout",
     "output_type": "stream",
     "text": [
      "[1, 2] [3]\n"
     ]
    }
   ],
   "source": [
    "split_list([1, 2, 3])"
   ]
  },
  {
   "cell_type": "code",
   "execution_count": 57,
   "metadata": {},
   "outputs": [
    {
     "name": "stdout",
     "output_type": "stream",
     "text": [
      "[] []\n"
     ]
    }
   ],
   "source": [
    "split_list([])"
   ]
  },
  {
   "cell_type": "code",
   "execution_count": 66,
   "metadata": {},
   "outputs": [],
   "source": [
    "def first_word(text: str):\n",
    "    location = text.find(\" \")\n",
    "    if location == -1:\n",
    "        return text\n",
    "    else:\n",
    "        return text[:location]"
   ]
  },
  {
   "cell_type": "code",
   "execution_count": 67,
   "metadata": {},
   "outputs": [
    {
     "data": {
      "text/plain": [
       "'Hello'"
      ]
     },
     "execution_count": 67,
     "metadata": {},
     "output_type": "execute_result"
    }
   ],
   "source": [
    "first_word('Hello world')"
   ]
  },
  {
   "cell_type": "code",
   "execution_count": 68,
   "metadata": {},
   "outputs": [
    {
     "data": {
      "text/plain": [
       "'hi'"
      ]
     },
     "execution_count": 68,
     "metadata": {},
     "output_type": "execute_result"
    }
   ],
   "source": [
    "first_word('hi')"
   ]
  },
  {
   "cell_type": "code",
   "execution_count": 70,
   "metadata": {},
   "outputs": [],
   "source": [
    "def end_zeros(num: int) -> int:\n",
    "    for x in str(num)[::-1]:\n",
    "        if  x != '0':\n",
    "            return str(num)[::-1].find(x)\n",
    "    return len(str(num))"
   ]
  },
  {
   "cell_type": "code",
   "execution_count": 72,
   "metadata": {},
   "outputs": [
    {
     "data": {
      "text/plain": [
       "0"
      ]
     },
     "execution_count": 72,
     "metadata": {},
     "output_type": "execute_result"
    }
   ],
   "source": [
    "end_zeros(100001)"
   ]
  },
  {
   "cell_type": "code",
   "execution_count": 88,
   "metadata": {},
   "outputs": [],
   "source": [
    "def max_digit(number: int) -> int:\n",
    "    return int(max(str(number)))"
   ]
  },
  {
   "cell_type": "code",
   "execution_count": 89,
   "metadata": {},
   "outputs": [
    {
     "data": {
      "text/plain": [
       "True"
      ]
     },
     "execution_count": 89,
     "metadata": {},
     "output_type": "execute_result"
    }
   ],
   "source": [
    "\n",
    "max_digit(52) == 5\n",
    "max_digit(634) == 6\n",
    "max_digit(1) == 1\n",
    "max_digit(10000) == 1"
   ]
  },
  {
   "cell_type": "code",
   "execution_count": 12,
   "metadata": {},
   "outputs": [],
   "source": [
    "def sun_angle(x:str):\n",
    "    angle = (int(x.split(\":\")[0])-6)*15 + int(x.split(\":\")[1]) * 0.25\n",
    "    if angle < 0 or angle > 180:\n",
    "        print(\"I dont see the sun!\")\n",
    "    else:\n",
    "        print(angle)"
   ]
  },
  {
   "cell_type": "code",
   "execution_count": 23,
   "metadata": {},
   "outputs": [],
   "source": [
    "def remove_all_after(x:list, y:int):\n",
    "    location = x.index(y)\n",
    "    if y not in x:\n",
    "        return x\n",
    "    elif len(x) == 0:\n",
    "        return x\n",
    "    else:\n",
    "        return x[:location+1]"
   ]
  },
  {
   "cell_type": "code",
   "execution_count": 26,
   "metadata": {},
   "outputs": [],
   "source": [
    "def goes_after(x:str, y:str, z:str):\n",
    "    for i in range(len(x)):\n",
    "        if x[i] == y and z == x[i + 1]:\n",
    "            return True\n",
    "        else:\n",
    "            return False"
   ]
  },
  {
   "cell_type": "code",
   "execution_count": 6,
   "metadata": {},
   "outputs": [],
   "source": [
    "def goes_after2(x:str, y:str, z:str):\n",
    "    return True if x.find(y)+1 == x.find(z) else False"
   ]
  },
  {
   "cell_type": "code",
   "execution_count": 8,
   "metadata": {},
   "outputs": [
    {
     "data": {
      "text/plain": [
       "False"
      ]
     },
     "execution_count": 8,
     "metadata": {},
     "output_type": "execute_result"
    }
   ],
   "source": [
    "goes_after2(\"deneme\", \"e\", \"m\")"
   ]
  },
  {
   "cell_type": "code",
   "execution_count": 42,
   "metadata": {},
   "outputs": [],
   "source": [
    "def sum_by_types(x:list):\n",
    "    str_list = \"\"\n",
    "    int_list = 0\n",
    "    for i in x:\n",
    "        if type(i) == str:\n",
    "            str_list += i\n",
    "        elif type(i) == int:\n",
    "            int_list += i\n",
    "    print([str_list , int_list])"
   ]
  },
  {
   "cell_type": "code",
   "execution_count": 11,
   "metadata": {},
   "outputs": [],
   "source": [
    "def translate(s:str):\n",
    "    import string\n",
    "    result = \"\"\n",
    "    s = set(s)\n",
    "    for i in range(len(s)):\n",
    "        if s[i] in set(string.ascii_lowercase)-set(\"aeiouy\"):\n",
    "            result += s[i]\n",
    "        elif s[i] in set(\"aeiouy\"):\n",
    "            result += s[i]\n",
    "    print(result)"
   ]
  },
  {
   "cell_type": "code",
   "execution_count": 12,
   "metadata": {},
   "outputs": [
    {
     "ename": "TypeError",
     "evalue": "'set' object is not subscriptable",
     "output_type": "error",
     "traceback": [
      "\u001b[1;31m---------------------------------------------------------------------------\u001b[0m",
      "\u001b[1;31mTypeError\u001b[0m                                 Traceback (most recent call last)",
      "\u001b[1;32mc:\\Users\\furkan\\Desktop\\Clarusway Docs\\Python Itf notebooks\\Diğer Çalışmalar\\hackerrank.ipynb Hücre 26\u001b[0m in \u001b[0;36m<cell line: 1>\u001b[1;34m()\u001b[0m\n\u001b[1;32m----> <a href='vscode-notebook-cell:/c%3A/Users/furkan/Desktop/Clarusway%20Docs/Python%20Itf%20notebooks/Di%C4%9Fer%20%C3%87al%C4%B1%C5%9Fmalar/hackerrank.ipynb#ch0000028?line=0'>1</a>\u001b[0m translate(\u001b[39m\"\u001b[39;49m\u001b[39mhieeelalaooo\u001b[39;49m\u001b[39m\"\u001b[39;49m)\n",
      "\u001b[1;32mc:\\Users\\furkan\\Desktop\\Clarusway Docs\\Python Itf notebooks\\Diğer Çalışmalar\\hackerrank.ipynb Hücre 26\u001b[0m in \u001b[0;36mtranslate\u001b[1;34m(s)\u001b[0m\n\u001b[0;32m      <a href='vscode-notebook-cell:/c%3A/Users/furkan/Desktop/Clarusway%20Docs/Python%20Itf%20notebooks/Di%C4%9Fer%20%C3%87al%C4%B1%C5%9Fmalar/hackerrank.ipynb#ch0000028?line=3'>4</a>\u001b[0m s \u001b[39m=\u001b[39m \u001b[39mset\u001b[39m(s)\n\u001b[0;32m      <a href='vscode-notebook-cell:/c%3A/Users/furkan/Desktop/Clarusway%20Docs/Python%20Itf%20notebooks/Di%C4%9Fer%20%C3%87al%C4%B1%C5%9Fmalar/hackerrank.ipynb#ch0000028?line=4'>5</a>\u001b[0m \u001b[39mfor\u001b[39;00m i \u001b[39min\u001b[39;00m \u001b[39mrange\u001b[39m(\u001b[39mlen\u001b[39m(s)):\n\u001b[1;32m----> <a href='vscode-notebook-cell:/c%3A/Users/furkan/Desktop/Clarusway%20Docs/Python%20Itf%20notebooks/Di%C4%9Fer%20%C3%87al%C4%B1%C5%9Fmalar/hackerrank.ipynb#ch0000028?line=5'>6</a>\u001b[0m     \u001b[39mif\u001b[39;00m s[i] \u001b[39min\u001b[39;00m \u001b[39mset\u001b[39m(string\u001b[39m.\u001b[39mascii_lowercase)\u001b[39m-\u001b[39m\u001b[39mset\u001b[39m(\u001b[39m\"\u001b[39m\u001b[39maeiouy\u001b[39m\u001b[39m\"\u001b[39m):\n\u001b[0;32m      <a href='vscode-notebook-cell:/c%3A/Users/furkan/Desktop/Clarusway%20Docs/Python%20Itf%20notebooks/Di%C4%9Fer%20%C3%87al%C4%B1%C5%9Fmalar/hackerrank.ipynb#ch0000028?line=6'>7</a>\u001b[0m         result \u001b[39m+\u001b[39m\u001b[39m=\u001b[39m s[i]\n\u001b[0;32m      <a href='vscode-notebook-cell:/c%3A/Users/furkan/Desktop/Clarusway%20Docs/Python%20Itf%20notebooks/Di%C4%9Fer%20%C3%87al%C4%B1%C5%9Fmalar/hackerrank.ipynb#ch0000028?line=7'>8</a>\u001b[0m     \u001b[39melif\u001b[39;00m s[i] \u001b[39min\u001b[39;00m \u001b[39mset\u001b[39m(\u001b[39m\"\u001b[39m\u001b[39maeiouy\u001b[39m\u001b[39m\"\u001b[39m):\n",
      "\u001b[1;31mTypeError\u001b[0m: 'set' object is not subscriptable"
     ]
    }
   ],
   "source": [
    "translate(\"hieeelalaooo\")"
   ]
  },
  {
   "cell_type": "code",
   "execution_count": 13,
   "metadata": {},
   "outputs": [
    {
     "data": {
      "text/plain": [
       "6"
      ]
     },
     "execution_count": 13,
     "metadata": {},
     "output_type": "execute_result"
    }
   ],
   "source": [
    "len(\"string\")"
   ]
  },
  {
   "cell_type": "code",
   "execution_count": 15,
   "metadata": {},
   "outputs": [
    {
     "data": {
      "text/plain": [
       "5"
      ]
     },
     "execution_count": 15,
     "metadata": {},
     "output_type": "execute_result"
    }
   ],
   "source": [
    "len(\"string\".replace(\"s\", \"\"))"
   ]
  },
  {
   "cell_type": "code",
   "execution_count": 17,
   "metadata": {},
   "outputs": [],
   "source": [
    "vowels= \"aeiouy\"\n",
    "word='hieeelalaooo'\n",
    "wyn=''\n",
    "for i in range(0,len(word)):\n",
    "  if word[i] not in vowels:\n",
    "    wyn+=word[i]\n",
    "    word.replace(word[i+1],' ')\n",
    "    "
   ]
  },
  {
   "cell_type": "code",
   "execution_count": 22,
   "metadata": {},
   "outputs": [
    {
     "ename": "ValueError",
     "evalue": "list.remove(x): x not in list",
     "output_type": "error",
     "traceback": [
      "\u001b[1;31m---------------------------------------------------------------------------\u001b[0m",
      "\u001b[1;31mValueError\u001b[0m                                Traceback (most recent call last)",
      "\u001b[1;32mc:\\Users\\furkan\\Desktop\\Clarusway Docs\\Python Itf notebooks\\Diğer Çalışmalar\\hackerrank.ipynb Hücre 30\u001b[0m in \u001b[0;36m<cell line: 5>\u001b[1;34m()\u001b[0m\n\u001b[0;32m     <a href='vscode-notebook-cell:/c%3A/Users/furkan/Desktop/Clarusway%20Docs/Python%20Itf%20notebooks/Di%C4%9Fer%20%C3%87al%C4%B1%C5%9Fmalar/hackerrank.ipynb#ch0000032?line=9'>10</a>\u001b[0m wyn \u001b[39m+\u001b[39m\u001b[39m=\u001b[39m word[i]\n\u001b[0;32m     <a href='vscode-notebook-cell:/c%3A/Users/furkan/Desktop/Clarusway%20Docs/Python%20Itf%20notebooks/Di%C4%9Fer%20%C3%87al%C4%B1%C5%9Fmalar/hackerrank.ipynb#ch0000032?line=10'>11</a>\u001b[0m word_list\u001b[39m.\u001b[39mremove(word[i\u001b[39m+\u001b[39m\u001b[39m1\u001b[39m])\n\u001b[1;32m---> <a href='vscode-notebook-cell:/c%3A/Users/furkan/Desktop/Clarusway%20Docs/Python%20Itf%20notebooks/Di%C4%9Fer%20%C3%87al%C4%B1%C5%9Fmalar/hackerrank.ipynb#ch0000032?line=11'>12</a>\u001b[0m word_list\u001b[39m.\u001b[39;49mremove(word[i\u001b[39m+\u001b[39;49m\u001b[39m2\u001b[39;49m])\n",
      "\u001b[1;31mValueError\u001b[0m: list.remove(x): x not in list"
     ]
    }
   ],
   "source": [
    "vowels= \"aeiouy\"\n",
    "word='hieeelalaooo'\n",
    "word_list=list(word)\n",
    "wyn=''\n",
    "for i in range(0,len(word)):\n",
    "    if word[i] not in vowels:\n",
    "        wyn+=word[i]\n",
    "        word_list.remove(word[i+1])\n",
    "    elif word[i] in vowels:\n",
    "        wyn += word[i]\n",
    "        word_list.remove(word[i+1])\n",
    "        word_list.remove(word[i+2])\n",
    "        \n",
    "        \n"
   ]
  },
  {
   "cell_type": "code",
   "execution_count": 21,
   "metadata": {},
   "outputs": [
    {
     "data": {
      "text/plain": [
       "['h', 'e', 'e', 'e', 'l', 'l', 'o', 'o', 'o']"
      ]
     },
     "execution_count": 21,
     "metadata": {},
     "output_type": "execute_result"
    }
   ],
   "source": [
    "word_list"
   ]
  },
  {
   "cell_type": "code",
   "execution_count": 30,
   "metadata": {},
   "outputs": [
    {
     "name": "stdout",
     "output_type": "stream",
     "text": [
      "['h', 'e', 'l', 'l', 'o', ' ', 'a', 'a']\n"
     ]
    }
   ],
   "source": [
    "vowels= \"aeiouy\"\n",
    "word='hieeelalaooo aaaaa'\n",
    "for i in vowels:\n",
    "    word = word.replace(i*3,i)\n",
    "\n",
    "word = list(word)\n",
    "\n",
    "for i, j in enumerate(word):\n",
    "    if j not in vowels:\n",
    "        del word[i+1]\n",
    "print(word)"
   ]
  },
  {
   "cell_type": "code",
   "execution_count": 31,
   "metadata": {},
   "outputs": [
    {
     "name": "stdout",
     "output_type": "stream",
     "text": [
      "hello aa\n"
     ]
    }
   ],
   "source": [
    "print(\"\".join(word))"
   ]
  },
  {
   "cell_type": "code",
   "execution_count": 39,
   "metadata": {},
   "outputs": [],
   "source": [
    "word2 = [\"a\",\"b\",\"c\"]"
   ]
  },
  {
   "cell_type": "code",
   "execution_count": 41,
   "metadata": {},
   "outputs": [
    {
     "name": "stdout",
     "output_type": "stream",
     "text": [
      "(0, 'a') (1, 'b') (2, 'c')\n"
     ]
    }
   ],
   "source": [
    "print(* enumerate(word2))"
   ]
  },
  {
   "cell_type": "code",
   "execution_count": 42,
   "metadata": {},
   "outputs": [
    {
     "name": "stdout",
     "output_type": "stream",
     "text": [
      "a b c d e f\n"
     ]
    }
   ],
   "source": [
    "vowels= \"aeiouy\"\n",
    "word='aaa bo cy da eee fe'\n",
    "wyn=''\n",
    "i = 0\n",
    "while i<len(word):\n",
    "    if word[i] != \" \":\n",
    "        if not word[i] in vowels:\n",
    "            wyn+=word[i]\n",
    "            i=i+2\n",
    "        elif word[i] in vowels:\n",
    "            wyn+=word[i]\n",
    "            i=i+3\n",
    "    else:\n",
    "        wyn+=\" \"\n",
    "        i+=1\n",
    "\n",
    "print(wyn)"
   ]
  },
  {
   "cell_type": "code",
   "execution_count": 31,
   "metadata": {},
   "outputs": [
    {
     "name": "stdout",
     "output_type": "stream",
     "text": [
      "------------.|.------------\n",
      "---------.|..|..|.---------\n",
      "------.|..|..|..|..|.------\n",
      "---.|..|..|..|..|..|..|.---\n",
      "----------WELCOME----------\n",
      "---.|..|..|..|..|..|..|.---\n",
      "------.|..|..|..|..|.------\n",
      "---------.|..|..|.---------\n",
      "------------.|.------------\n"
     ]
    }
   ],
   "source": [
    "N, M = map(int, input().split())\n",
    "for i in range(1,N,2):\n",
    "    print((i * \".|.\").center(M, \"-\"))\n",
    "print(\"WELCOME\".center(M, \"-\"))\n",
    "for i in range(N-2,0,-2):\n",
    "    print((i * \".|.\").center(M, \"-\"))\n",
    "        "
   ]
  },
  {
   "cell_type": "code",
   "execution_count": 29,
   "metadata": {},
   "outputs": [
    {
     "name": "stdout",
     "output_type": "stream",
     "text": [
      "---------.|.---------\n",
      "------.|..|..|.------\n",
      "---.|..|..|..|..|.---\n",
      "-------WELCOME-------\n",
      "---.|..|..|..|..|.---\n",
      "------.|..|..|.------\n",
      "---------.|.---------\n"
     ]
    }
   ],
   "source": [
    "door_mat(7, 21)"
   ]
  },
  {
   "cell_type": "code",
   "execution_count": null,
   "metadata": {},
   "outputs": [],
   "source": []
  }
 ],
 "metadata": {
  "kernelspec": {
   "display_name": "Python 3.9.7 64-bit",
   "language": "python",
   "name": "python3"
  },
  "language_info": {
   "codemirror_mode": {
    "name": "ipython",
    "version": 3
   },
   "file_extension": ".py",
   "mimetype": "text/x-python",
   "name": "python",
   "nbconvert_exporter": "python",
   "pygments_lexer": "ipython3",
   "version": "3.9.7"
  },
  "orig_nbformat": 4,
  "vscode": {
   "interpreter": {
    "hash": "44193802e807cacc1b64fafb2e07252abe858531eb32d532c563a47e99a6366a"
   }
  }
 },
 "nbformat": 4,
 "nbformat_minor": 2
}
