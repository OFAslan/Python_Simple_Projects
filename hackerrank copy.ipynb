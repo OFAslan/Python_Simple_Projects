{
 "cells": [
  {
   "cell_type": "code",
   "execution_count": 6,
   "metadata": {},
   "outputs": [
    {
     "name": "stdout",
     "output_type": "stream",
     "text": [
      "    H    \n",
      "   HHH   \n",
      "  HHHHH  \n",
      " HHHHHHH \n",
      "HHHHHHHHH\n"
     ]
    }
   ],
   "source": [
    "thickness = int(input()) #This must be an odd number\n",
    "c = 'H'\n",
    "\n",
    "#Top Cone\n",
    "for i in range(thickness):\n",
    "    print((c*i).rjust(thickness-1)+c+(c*i).ljust(thickness-1))"
   ]
  },
  {
   "cell_type": "code",
   "execution_count": 3,
   "metadata": {},
   "outputs": [
    {
     "name": "stdout",
     "output_type": "stream",
     "text": [
      "    H    \n",
      " H  H H  \n",
      " HH H HH \n",
      "HHH HHHH \n",
      "HHHHHHHHH\n"
     ]
    }
   ],
   "source": [
    "thickness = int(input()) #This must be an odd number\n",
    "c = 'H'\n",
    "\n",
    "#Top Cone\n",
    "for i in range(thickness):\n",
    "    print((c*i).center(thickness-1)+c+(c*i).center(thickness-1))"
   ]
  },
  {
   "cell_type": "code",
   "execution_count": 10,
   "metadata": {},
   "outputs": [
    {
     "name": "stdout",
     "output_type": "stream",
     "text": [
      "-----HackerRank-----\n"
     ]
    }
   ],
   "source": [
    "width = 20\n",
    "print('HackerRank'.center(width,\"-\"))"
   ]
  },
  {
   "cell_type": "code",
   "execution_count": 15,
   "metadata": {},
   "outputs": [
    {
     "name": "stdout",
     "output_type": "stream",
     "text": [
      "********************HHHHHHHHH*\n",
      "*********************HHHHHHH**\n",
      "**********************HHHHH***\n",
      "***********************HHH****\n",
      "************************H*****\n"
     ]
    }
   ],
   "source": [
    "thickness == 5\n",
    "c == \"H\"\n",
    "for i in range(thickness):\n",
    "    print(((c*(thickness-i-1)).rjust(thickness,\"*\")+c+(c*(thickness-i-1)).ljust(thickness,\"*\")).rjust(thickness*6,\"*\"))\n"
   ]
  },
  {
   "cell_type": "code",
   "execution_count": 51,
   "metadata": {},
   "outputs": [],
   "source": [
    "import textwrap\n",
    "\n",
    "def wrap(string, max_width):\n",
    "    return textwrap.fill(string,max_width)"
   ]
  },
  {
   "cell_type": "code",
   "execution_count": 53,
   "metadata": {},
   "outputs": [
    {
     "name": "stdout",
     "output_type": "stream",
     "text": [
      "abcd\n",
      "efgh\n",
      "i\n"
     ]
    }
   ],
   "source": [
    "print(wrap(\"abcdefghi\",4))"
   ]
  },
  {
   "cell_type": "code",
   "execution_count": 1,
   "metadata": {},
   "outputs": [],
   "source": [
    "def fact_total(x):\n",
    "    result = 1\n",
    "    total = 0\n",
    "    for i in range(1,x):\n",
    "        result *= i\n",
    "    for i in str(result):\n",
    "        total += int(i)\n",
    "    return total"
   ]
  },
  {
   "cell_type": "code",
   "execution_count": 3,
   "metadata": {},
   "outputs": [
    {
     "name": "stdout",
     "output_type": "stream",
     "text": [
      "648\n"
     ]
    }
   ],
   "source": [
    "print(fact_total(100))"
   ]
  },
  {
   "cell_type": "code",
   "execution_count": 4,
   "metadata": {},
   "outputs": [],
   "source": [
    "listem = [1,2,3,4,5,6,7,8,9,10]\n",
    "\n",
    "sayım = 15\n",
    "\n",
    "result_list = []"
   ]
  },
  {
   "cell_type": "code",
   "execution_count": null,
   "metadata": {},
   "outputs": [],
   "source": [
    "for i in range(listem):\n",
    "    \n",
    "    "
   ]
  },
  {
   "cell_type": "code",
   "execution_count": 1,
   "metadata": {},
   "outputs": [],
   "source": [
    "solution_dict = {i:0 for i in range(100)}"
   ]
  },
  {
   "cell_type": "code",
   "execution_count": 3,
   "metadata": {},
   "outputs": [],
   "source": [
    "with open(\"keylog.txt\", \"r\", encoding=\"utf-8\") as d:\n",
    "    keylogs = set(d.read().splitlines())\n",
    "keys_set = set()\n",
    "for i in keylogs:\n",
    "    for j in i: keys_set.add(j)\n",
    "    \n",
    "def after_key(x):\n",
    "    after_x = set()\n",
    "    for i in keylogs:\n",
    "        for j in i:\n",
    "            if x == j:\n",
    "                for k in i[i.index(j) +1 :]:after_x.add(k)\n",
    "    return x, after_x, len(after_x)"
   ]
  },
  {
   "cell_type": "code",
   "execution_count": 11,
   "metadata": {},
   "outputs": [
    {
     "data": {
      "text/plain": [
       "('6', {'0', '2', '8', '9'}, 4)"
      ]
     },
     "execution_count": 11,
     "metadata": {},
     "output_type": "execute_result"
    }
   ],
   "source": [
    "after_key(\"6\")"
   ]
  },
  {
   "cell_type": "code",
   "execution_count": 13,
   "metadata": {},
   "outputs": [
    {
     "name": "stdout",
     "output_type": "stream",
     "text": [
      "233168\n"
     ]
    }
   ],
   "source": [
    "total = 0\n",
    "for i in range(1000):\n",
    "    if i % 3 == 0 or i % 5 == 0:\n",
    "        total += i\n",
    "print(total)"
   ]
  },
  {
   "cell_type": "code",
   "execution_count": 14,
   "metadata": {},
   "outputs": [
    {
     "name": "stdout",
     "output_type": "stream",
     "text": [
      "Doksan Yedi\n"
     ]
    }
   ],
   "source": [
    "birler =  [\"\",\"Bir\",\"İki\",\"Üç\",\"Dört\",\"Beş\",\"Altı\",\"Yedi\",\"Sekiz\",\"Dokuz\"]\n",
    "onlar = [\"\",\"\",\"Yirmi\",\"Otuz\",\"Kırk\",\"Elli\",\"Altmış\",\"Yetmiş\",\"Seksen\",\"Doksan\"]\n",
    "\n",
    "def okunus(sayı):\n",
    "    birinci = sayı % 10\n",
    "    ikinci = sayı // 10\n",
    "    \n",
    "    return onlar[ikinci] + \" \" + birler[birinci]\n",
    "\n",
    "    \n",
    "sayı =  int(input(\"Sayı:\"))\n",
    "\n",
    "print(okunus(sayı))\n"
   ]
  },
  {
   "cell_type": "code",
   "execution_count": 4,
   "metadata": {},
   "outputs": [
    {
     "name": "stdout",
     "output_type": "stream",
     "text": [
      "* \n",
      "* * \n",
      "* * * \n",
      "* * * * \n",
      "* * * * * \n",
      "* * * * * * \n",
      "* * * * * \n",
      "* * * * \n",
      "* * * \n",
      "* * \n",
      "* \n",
      "\n"
     ]
    }
   ],
   "source": [
    "rows = 6\n",
    "for i in range(rows):\n",
    "    for j in range(i + 1):\n",
    "        print(\"*\", end=' ')\n",
    "    print()\n",
    "\n",
    "for i in range(rows, 0, -1):\n",
    "    for j in range(0, i - 1):\n",
    "        print(\"*\", end=' ')\n",
    "    print()\n"
   ]
  },
  {
   "cell_type": "code",
   "execution_count": 9,
   "metadata": {},
   "outputs": [
    {
     "name": "stdout",
     "output_type": "stream",
     "text": [
      "After converting above characters in upper and lower cases and eliminating duplicate ones:\n",
      "[('E', 'e'), ('M', 'm'), ('D', 'd'), ('N', 'n')]\n"
     ]
    }
   ],
   "source": [
    "def change_cases(s):\n",
    "      return str(s).upper(), str(s).lower()\n",
    " \n",
    "chrars = set(input(\"Please enter a word: \"))\n",
    " \n",
    "result = map(change_cases, chrars)\n",
    "print(\"After converting above characters in upper and lower cases and eliminating duplicate ones:\")\n",
    "print(list(result))\n"
   ]
  },
  {
   "cell_type": "code",
   "execution_count": 11,
   "metadata": {},
   "outputs": [
    {
     "name": "stdout",
     "output_type": "stream",
     "text": [
      "Original arrays:\n",
      "[1, 2, 3, 5, 7, 8, 9, 10]\n",
      "[1, 2, 4, 8, 9]\n",
      "\n",
      "Intersection of the said arrays:  [1, 2, 8, 9]\n"
     ]
    }
   ],
   "source": [
    "array_nums1 = [1, 2, 3, 5, 7, 8, 9, 10]\n",
    "array_nums2 = [1, 2, 4, 8, 9]\n",
    "print(\"Original arrays:\")\n",
    "print(array_nums1)\n",
    "print(array_nums2)\n",
    "result = list(filter(lambda x: x in array_nums1, array_nums2)) \n",
    "print (\"\\nIntersection of the said arrays: \",result)"
   ]
  },
  {
   "cell_type": "code",
   "execution_count": null,
   "metadata": {},
   "outputs": [],
   "source": [
    "for i in range(7):\n",
    "        if i == 0:\n",
    "            print(9 * \"-\" + 1 * \".|.\" + 9 * \"-\")\n",
    "        elif i == 1:\n",
    "            print(6 * \"-\" + 3 * \".|.\" + 6 * \"-\")\n",
    "        elif i == 2:\n",
    "            print(3 * \"-\" + 5 * \".|.\" + 3 * \"-\")\n",
    "        elif i == 3:\n",
    "            print(\"WELCOME\".center(21, \"-\"))\n",
    "        elif i == 4:\n",
    "            print(3 * \"-\" + 5 * \".|.\" + 3 * \"-\")\n",
    "        elif i == 5:\n",
    "            print(6 * \"-\" + 3 * \".|.\" + 6 * \"-\")\n",
    "        elif i == 6:\n",
    "            print(9 * \"-\" + 1 * \".|.\" + 9 * \"-\")"
   ]
  },
  {
   "cell_type": "code",
   "execution_count": 5,
   "metadata": {},
   "outputs": [],
   "source": [
    "def door_mat(n,m):\n",
    "    i = -1\n",
    "    while i < n:\n",
    "        print(((i + 2) * \".|.\").center(m, \"-\"))\n",
    "        i + 1"
   ]
  },
  {
   "cell_type": "code",
   "execution_count": 6,
   "metadata": {},
   "outputs": [
    {
     "name": "stdout",
     "output_type": "stream",
     "text": [
      "------.|..|..|.------\n",
      "\n",
      "-----.|..|..|..|.----\n",
      "\n",
      "---.|..|..|..|..|.---\n",
      "\n",
      "--.|..|..|..|..|..|.-\n",
      "\n",
      ".|..|..|..|..|..|..|.\n",
      "\n",
      ".|..|..|..|..|..|..|..|.\n",
      "\n",
      ".|..|..|..|..|..|..|..|..|.\n",
      "\n"
     ]
    }
   ],
   "source": [
    "door_mat(7,21)"
   ]
  },
  {
   "cell_type": "code",
   "execution_count": null,
   "metadata": {},
   "outputs": [],
   "source": []
  }
 ],
 "metadata": {
  "kernelspec": {
   "display_name": "Python 3.9.7 64-bit",
   "language": "python",
   "name": "python3"
  },
  "language_info": {
   "codemirror_mode": {
    "name": "ipython",
    "version": 3
   },
   "file_extension": ".py",
   "mimetype": "text/x-python",
   "name": "python",
   "nbconvert_exporter": "python",
   "pygments_lexer": "ipython3",
   "version": "3.9.7"
  },
  "orig_nbformat": 4,
  "vscode": {
   "interpreter": {
    "hash": "44193802e807cacc1b64fafb2e07252abe858531eb32d532c563a47e99a6366a"
   }
  }
 },
 "nbformat": 4,
 "nbformat_minor": 2
}
